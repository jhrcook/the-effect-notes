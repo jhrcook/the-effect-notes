{
 "cells": [
  {
   "cell_type": "markdown",
   "id": "5217c1e6-3670-424d-805d-47b13f918e7f",
   "metadata": {},
   "source": [
    "# Chapter 12. Opening the Toolbox"
   ]
  },
  {
   "cell_type": "markdown",
   "id": "17b18ebd",
   "metadata": {},
   "source": [
    "## 12.1 Concept and execution\n",
    "\n",
    "- second half of the book concerned with putting the theory from the first half into practice\n",
    "- commonly need to figure out which of a selection of tools fits our problem\n",
    "    - still starts with understanding the data generating process and building a causal diagram"
   ]
  },
  {
   "cell_type": "markdown",
   "id": "b2accb8a",
   "metadata": {},
   "source": [
    "## 12.2 The toolbox chapters\n",
    "\n",
    "- chapters 16-20 focus on the \"template\" research designs\n",
    "    - tools for common structures of causal diagrams (i.e. experimental designs)\n",
    "    - these chapters will have the same three sections:\n",
    "        1. \"How does it work?\"\n",
    "        1. \"How is it performed?\"\n",
    "        1. \"How the pros do it.\"\n",
    "- recommends *Causal Inference: The Mixtape* by Scott Cunningham for up-to-date applications of these methods"
   ]
  },
  {
   "cell_type": "markdown",
   "id": "36a463b0",
   "metadata": {},
   "source": [
    "## 12.3 Code examples\n",
    "\n",
    "- examples available in R, Python, Stata\n",
    "    - (I'll be sticking with the Python examples)\n",
    "    - the installation of the `causaldata` package from PyPI is included in the creation of the virtual environment for this repository\n",
    "- example use case of getting information from the `mortgages` dataset"
   ]
  },
  {
   "cell_type": "code",
   "execution_count": 1,
   "id": "a24a3057",
   "metadata": {},
   "outputs": [
    {
     "name": "stdout",
     "output_type": "stream",
     "text": [
      "The mortgages data contains data from Fetter (2015) on home ownership rates by men, focusing on whether they were born at the right time to be eligible for mortgage subsidies based on their military service. This data was used in the Regression Discontinuity chapter of The Effect.\n"
     ]
    }
   ],
   "source": [
    "from causaldata import mortgages\n",
    "\n",
    "print(mortgages.DESCRLONG)"
   ]
  },
  {
   "cell_type": "code",
   "execution_count": 2,
   "id": "f0c696f5-af9d-47f2-961d-9a8c88d4a597",
   "metadata": {},
   "outputs": [
    {
     "name": "stdout",
     "output_type": "stream",
     "text": [
      "::\n",
      "    Number of observations - 214144\n",
      "    Number of variables - 6\n",
      "    Variables name definitions::\n",
      "            bpl - Birth State\n",
      "            qob - Quarter of birth\n",
      "            nonwhite - White/nonwhite race indicator. 1 = Nonwhite\n",
      "            vet_wwko - Veteran of either the Korean war or World War II\n",
      "            home_ownership - Owns a home\n",
      "            qob_minus_kw - Quarter of birth centered on eligibility for mortgage subsidy (0+ = eligible)\n",
      "\n"
     ]
    }
   ],
   "source": [
    "print(mortgages.NOTE)"
   ]
  },
  {
   "cell_type": "markdown",
   "id": "d863f19f-94bf-49e7-b919-828b22c29e24",
   "metadata": {},
   "source": [
    "---\n",
    "\n",
    "## Session information"
   ]
  },
  {
   "cell_type": "code",
   "execution_count": 3,
   "id": "a3648adb-1ccf-4f45-8231-5628071eee9f",
   "metadata": {},
   "outputs": [
    {
     "name": "stdout",
     "output_type": "stream",
     "text": [
      "Last updated: 2022-12-06\n",
      "\n",
      "Python implementation: CPython\n",
      "Python version       : 3.10.8\n",
      "IPython version      : 8.6.0\n",
      "\n",
      "Compiler    : Clang 14.0.6 \n",
      "OS          : Darwin\n",
      "Release     : 21.6.0\n",
      "Machine     : x86_64\n",
      "Processor   : i386\n",
      "CPU cores   : 4\n",
      "Architecture: 64bit\n",
      "\n",
      "Hostname: JHCookMac.local\n",
      "\n",
      "Git branch: master\n",
      "\n",
      "causaldata: 0.1.3\n",
      "sys       : 3.10.8 | packaged by conda-forge | (main, Nov 22 2022, 08:27:35) [Clang 14.0.6 ]\n",
      "\n"
     ]
    }
   ],
   "source": [
    "%load_ext watermark\n",
    "%watermark -d -u -v -iv -b -h -m"
   ]
  },
  {
   "cell_type": "code",
   "execution_count": null,
   "id": "4d193cd9-141b-466f-8a50-5f5e81f3f08b",
   "metadata": {},
   "outputs": [],
   "source": []
  }
 ],
 "metadata": {
  "kernelspec": {
   "display_name": "Python 3.10.8 ('the-effect-notes')",
   "language": "python",
   "name": "python3"
  },
  "language_info": {
   "codemirror_mode": {
    "name": "ipython",
    "version": 3
   },
   "file_extension": ".py",
   "mimetype": "text/x-python",
   "name": "python",
   "nbconvert_exporter": "python",
   "pygments_lexer": "ipython3",
   "version": "3.10.8"
  },
  "vscode": {
   "interpreter": {
    "hash": "1a59a026438a49ac853b29f181e051b1ffbd59158d1cc44644b5b4de36635554"
   }
  }
 },
 "nbformat": 4,
 "nbformat_minor": 5
}
