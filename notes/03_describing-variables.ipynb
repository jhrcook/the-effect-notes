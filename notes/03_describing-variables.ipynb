{
 "cells": [
  {
   "cell_type": "markdown",
   "id": "5217c1e6-3670-424d-805d-47b13f918e7f",
   "metadata": {},
   "source": [
    "# Chapter 3. Describing Variables"
   ]
  },
  {
   "cell_type": "markdown",
   "id": "f2f23a84-a315-4b4a-8577-df9e8208cde7",
   "metadata": {},
   "source": [
    "## 3.1 Descriptions of variables\n",
    "\n",
    "- empirical research questions really come down entirely to describing the density distributions of statistical variables"
   ]
  },
  {
   "cell_type": "markdown",
   "id": "5bcfaaac-0bd4-408e-966e-15bccb694007",
   "metadata": {},
   "source": [
    "## 3.2 Types of variables\n",
    "\n",
    "- common types of variables:\n",
    "    - *continuous*: can take any value, often limited to a range\n",
    "    - *count*: positive integers\n",
    "    - *categorical*: values are restricted to a set of classes\n",
    "    - *binary*: categorical variable restricted to $0$ or $1$\n",
    "    - *ordinal*: ordered categorical variables; some are \"more\" than others, but not necessarily by consistent intervals\n",
    "    - *qualitative*: \"catch-all\" category for everything else; mix of quantitative and categorical"
   ]
  },
  {
   "cell_type": "markdown",
   "id": "ed4c0124-470d-44e6-bb1f-b425f55ff8fc",
   "metadata": {},
   "source": [
    "## 3.3 The distribution\n",
    "\n",
    "- *distribution*: a description of how often different values occur"
   ]
  },
  {
   "cell_type": "markdown",
   "id": "0e94c585-2311-42a9-87d3-2c7aa839bda4",
   "metadata": {},
   "source": [
    "## 3.4 Summarizing the distribution\n",
    "\n",
    "- parameterize the the distribution to describe it with specific values\n",
    "    - need to make assumptions on the type of distribution the variable conforms to\n",
    "- can take certain percentiles (e.g. 0%, 50%, 100%) or the variance to describe the variability in a distribution\n",
    "- skew measures the unevenness in the distribution around the center (mean, median, mode)\n",
    "    - how symmetric the distribution is\n",
    "    - sometimes, best to *transform* the data to remove skew, that is, to make the distribution symmetric and easier to use/parameterize"
   ]
  },
  {
   "cell_type": "markdown",
   "id": "ece63b13-9c55-43ee-a398-2b9ac63e768a",
   "metadata": {},
   "source": [
    "## 3.5 Theoretical distributions\n",
    "\n",
    "- difference between *true* and *observed* distributions\n",
    "    - eventually just need to say that the observed is a good enough approximation\n",
    "    - the goal of statistics is to say how generalizable our collected (observed) data is to the true underlying distribution\n",
    "- some notations:\n",
    "    - English/Latin letters represent data (e.g. $x$)\n",
    "    - modifications of English/Latin letters represent calculations done with real data (e.g. $\\bar{x}$ is the mean of $x$)\n",
    "    - Greek letters represent *the truth* (e.g. $\\alpha$, $\\beta$)\n",
    "        - some common ones (not always their meaning, but usually):\n",
    "            - $\\mu$: mean\n",
    "            - $\\sigma$: standard deviation\n",
    "            - $\\rho$: correlation\n",
    "            - $\\beta$: regression coefficients\n",
    "            - $\\epsilon$: error terms\n",
    "    - modifications of Greek letters represent our estimate of *the truth* (e.g. the estimate of $\\mu$  is $\\hat{\\mu}$)\n",
    "- think of the observed data as coming from the theoretical (\"true\" or \"underlying\") distributions\n",
    "- some key theoretical distributions: *normal distribution* and *log-normal distribution*"
   ]
  },
  {
   "cell_type": "markdown",
   "id": "d863f19f-94bf-49e7-b919-828b22c29e24",
   "metadata": {},
   "source": [
    "---\n",
    "\n",
    "## Session information"
   ]
  },
  {
   "cell_type": "code",
   "execution_count": 1,
   "id": "a3648adb-1ccf-4f45-8231-5628071eee9f",
   "metadata": {},
   "outputs": [
    {
     "name": "stdout",
     "output_type": "stream",
     "text": [
      "Last updated: 2022-11-28\n",
      "\n",
      "Python implementation: CPython\n",
      "Python version       : 3.10.8\n",
      "IPython version      : 8.6.0\n",
      "\n",
      "Compiler    : Clang 14.0.6 \n",
      "OS          : Darwin\n",
      "Release     : 21.6.0\n",
      "Machine     : x86_64\n",
      "Processor   : i386\n",
      "CPU cores   : 4\n",
      "Architecture: 64bit\n",
      "\n",
      "Hostname: JHCookMac.local\n",
      "\n",
      "Git branch: master\n",
      "\n"
     ]
    }
   ],
   "source": [
    "%load_ext watermark\n",
    "%watermark -d -u -v -iv -b -h -m"
   ]
  },
  {
   "cell_type": "code",
   "execution_count": null,
   "id": "4d193cd9-141b-466f-8a50-5f5e81f3f08b",
   "metadata": {},
   "outputs": [],
   "source": []
  }
 ],
 "metadata": {
  "kernelspec": {
   "display_name": "Python 3 (ipykernel)",
   "language": "python",
   "name": "python3"
  },
  "language_info": {
   "codemirror_mode": {
    "name": "ipython",
    "version": 3
   },
   "file_extension": ".py",
   "mimetype": "text/x-python",
   "name": "python",
   "nbconvert_exporter": "python",
   "pygments_lexer": "ipython3",
   "version": "3.10.8"
  }
 },
 "nbformat": 4,
 "nbformat_minor": 5
}
