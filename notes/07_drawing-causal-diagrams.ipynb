{
 "cells": [
  {
   "cell_type": "markdown",
   "id": "5217c1e6-3670-424d-805d-47b13f918e7f",
   "metadata": {},
   "source": [
    "# Chapter 7. Drawing Causal Diagrams"
   ]
  },
  {
   "cell_type": "markdown",
   "id": "e389e555",
   "metadata": {},
   "source": [
    "## 7.1 Our idea of the world\n",
    "\n",
    "- need to do research on the topic in order to understand the system"
   ]
  },
  {
   "cell_type": "markdown",
   "id": "46dc50b3",
   "metadata": {},
   "source": [
    "## 7.2 Thinking through the data generating process\n",
    "\n",
    "- need to isolate just the relevant factors\n",
    "    - cannot build a model of the entire world"
   ]
  },
  {
   "cell_type": "markdown",
   "id": "88c07d5a",
   "metadata": {},
   "source": [
    "## 7.3 Simplify\n",
    "\n",
    "- once a causal diagram has been constructed, look for places to simplify\n",
    "    - removing some minor details may make the model easier to interpret and thus more useful\n",
    "- look for the following characteristics:\n",
    "    1. *unimportance*: likely to have a small/negligible effect\n",
    "    1. *redundancy*: variables that occupy the same space in the model (they have the same inputs and outputs); often best to combine these variables\n",
    "    1. *mediators*: mediators that only exist to link two other observed variables can usually be dropped\n",
    "    1. *irrelevance*: requires knowledge about the system; can be identified by looking for variables that do not have a path to the outcome variables"
   ]
  },
  {
   "cell_type": "markdown",
   "id": "f0c696f5-af9d-47f2-961d-9a8c88d4a597",
   "metadata": {},
   "source": [
    "## 7.4 Avoiding cycles\n",
    "\n",
    "- a causal diagram cannot have cycles\n",
    "    - cannot start from one variable, fallow any connections, and eventually return to the original variable\n",
    "- this would mean that a variable causes itself\n",
    "- many cases that seem contrary to this remain consistent when you recall that the events are organized in time"
   ]
  },
  {
   "cell_type": "markdown",
   "id": "21cd6631-4ded-4a6b-83b4-1a9412dbc630",
   "metadata": {},
   "source": [
    "## 7.5 Getting comfortable with assumptions\n",
    "\n",
    "- assumptions appear in the diagram because of missing knowledge\n",
    "    - can never know everything, so there will always be assumptions\n",
    "- recommendation is to be critical and reasonable\n",
    "    - open to criticism from others – may be able to fill in the gaps of missing knowledge\n",
    "- there are various ways of testing some types of assumptions, too, that will be covered later"
   ]
  },
  {
   "cell_type": "markdown",
   "id": "d863f19f-94bf-49e7-b919-828b22c29e24",
   "metadata": {},
   "source": [
    "---\n",
    "\n",
    "## Session information"
   ]
  },
  {
   "cell_type": "code",
   "execution_count": 1,
   "id": "a3648adb-1ccf-4f45-8231-5628071eee9f",
   "metadata": {},
   "outputs": [
    {
     "name": "stdout",
     "output_type": "stream",
     "text": [
      "Last updated: 2022-12-01\n",
      "\n",
      "Python implementation: CPython\n",
      "Python version       : 3.10.8\n",
      "IPython version      : 8.6.0\n",
      "\n",
      "Compiler    : Clang 14.0.6 \n",
      "OS          : Darwin\n",
      "Release     : 21.6.0\n",
      "Machine     : x86_64\n",
      "Processor   : i386\n",
      "CPU cores   : 4\n",
      "Architecture: 64bit\n",
      "\n",
      "Hostname: JHCookMac.local\n",
      "\n",
      "Git branch: master\n",
      "\n",
      "sys: 3.10.8 | packaged by conda-forge | (main, Nov 22 2022, 08:27:35) [Clang 14.0.6 ]\n",
      "\n"
     ]
    }
   ],
   "source": [
    "%load_ext watermark\n",
    "%watermark -d -u -v -iv -b -h -m"
   ]
  },
  {
   "cell_type": "code",
   "execution_count": null,
   "id": "4d193cd9-141b-466f-8a50-5f5e81f3f08b",
   "metadata": {},
   "outputs": [],
   "source": []
  }
 ],
 "metadata": {
  "kernelspec": {
   "display_name": "Python 3.10.8 ('the-effect-notes')",
   "language": "python",
   "name": "python3"
  },
  "language_info": {
   "codemirror_mode": {
    "name": "ipython",
    "version": 3
   },
   "file_extension": ".py",
   "mimetype": "text/x-python",
   "name": "python",
   "nbconvert_exporter": "python",
   "pygments_lexer": "ipython3",
   "version": "3.10.8"
  },
  "vscode": {
   "interpreter": {
    "hash": "1a59a026438a49ac853b29f181e051b1ffbd59158d1cc44644b5b4de36635554"
   }
  }
 },
 "nbformat": 4,
 "nbformat_minor": 5
}
