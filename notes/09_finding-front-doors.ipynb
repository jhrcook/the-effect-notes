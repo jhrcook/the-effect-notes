{
 "cells": [
  {
   "cell_type": "markdown",
   "id": "5217c1e6-3670-424d-805d-47b13f918e7f",
   "metadata": {},
   "source": [
    "# Chapter 9. Finding Front Doors"
   ]
  },
  {
   "cell_type": "markdown",
   "id": "f0c696f5-af9d-47f2-961d-9a8c88d4a597",
   "metadata": {},
   "source": [
    "## 9.1 Looking ahead\n",
    "\n",
    "- instead of closing all possible back doors, can focus on isolating front doors"
   ]
  },
  {
   "cell_type": "markdown",
   "id": "6adc15af",
   "metadata": {},
   "source": [
    "## 9.2 Trying to push a string\n",
    "\n",
    "- if multiple back doors, can *partition the variation* on the treatment\n",
    "    - can isolate particular sample\n",
    "    - other statistical adjustments to remove the back door effects\n",
    "        - randomized controlled experiments: the participants backgrounds have no influence on whether they recieve the treatment\n",
    "        - but randomization is not always available and these cases are more tricky\n"
   ]
  },
  {
   "cell_type": "markdown",
   "id": "99bf6a99",
   "metadata": {},
   "source": [
    "## 9.3 What the world can do for us\n",
    "\n",
    "- *natural experiment*: \"a real-world setting in which some sort of randomization has been done for us\"\n",
    "- *source of exogenous variation*: look for a source of variation with no open back doors\n",
    "- differences between randomized controlled trial and natural experiment:\n",
    "    1. there can be back doors for the natural experiment; will need to control for them\n",
    "    1. natural experiments are more natural, removing some potential variation due to the explicit experimental environment\n",
    "    1. need to remove cases in a natural experiment where the randomness isn't a good assumption\n",
    "    1. can be difficult to convince others that your exogenous source of variation is truly independent of all other factors\n",
    "- "
   ]
  },
  {
   "cell_type": "markdown",
   "id": "21cd6631-4ded-4a6b-83b4-1a9412dbc630",
   "metadata": {},
   "source": [
    "## 9.4 Is it too good to be true?\n",
    "\n",
    "- for an exogenous source of variation, have to assume it is random within the context of the data generating process\n",
    "    - all studies require assumptions, but some are more believable than others"
   ]
  },
  {
   "cell_type": "markdown",
   "id": "5060f067",
   "metadata": {},
   "source": [
    "## 9.5 Riding a shooting star\n",
    "\n",
    "- *front door method*: a strategy to identify the causal effect of a treatment on an outcome by isolating front doors\n",
    "    - less frequently used in research than finding an exogenous source of variation\n"
   ]
  },
  {
   "cell_type": "markdown",
   "id": "d863f19f-94bf-49e7-b919-828b22c29e24",
   "metadata": {},
   "source": [
    "---\n",
    "\n",
    "## Session information"
   ]
  },
  {
   "cell_type": "code",
   "execution_count": 1,
   "id": "a3648adb-1ccf-4f45-8231-5628071eee9f",
   "metadata": {},
   "outputs": [
    {
     "name": "stdout",
     "output_type": "stream",
     "text": [
      "Last updated: 2022-12-02\n",
      "\n",
      "Python implementation: CPython\n",
      "Python version       : 3.10.8\n",
      "IPython version      : 8.6.0\n",
      "\n",
      "Compiler    : Clang 14.0.6 \n",
      "OS          : Darwin\n",
      "Release     : 21.6.0\n",
      "Machine     : x86_64\n",
      "Processor   : i386\n",
      "CPU cores   : 4\n",
      "Architecture: 64bit\n",
      "\n",
      "Hostname: JHCookMac.local\n",
      "\n",
      "Git branch: master\n",
      "\n",
      "sys: 3.10.8 | packaged by conda-forge | (main, Nov 22 2022, 08:27:35) [Clang 14.0.6 ]\n",
      "\n"
     ]
    }
   ],
   "source": [
    "%load_ext watermark\n",
    "%watermark -d -u -v -iv -b -h -m"
   ]
  },
  {
   "cell_type": "code",
   "execution_count": null,
   "id": "4d193cd9-141b-466f-8a50-5f5e81f3f08b",
   "metadata": {},
   "outputs": [],
   "source": []
  }
 ],
 "metadata": {
  "kernelspec": {
   "display_name": "Python 3.10.8 ('the-effect-notes')",
   "language": "python",
   "name": "python3"
  },
  "language_info": {
   "codemirror_mode": {
    "name": "ipython",
    "version": 3
   },
   "file_extension": ".py",
   "mimetype": "text/x-python",
   "name": "python",
   "nbconvert_exporter": "python",
   "pygments_lexer": "ipython3",
   "version": "3.10.8"
  },
  "vscode": {
   "interpreter": {
    "hash": "1a59a026438a49ac853b29f181e051b1ffbd59158d1cc44644b5b4de36635554"
   }
  }
 },
 "nbformat": 4,
 "nbformat_minor": 5
}
