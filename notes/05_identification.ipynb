{
 "cells": [
  {
   "cell_type": "markdown",
   "id": "5217c1e6-3670-424d-805d-47b13f918e7f",
   "metadata": {},
   "source": [
    "# Chapter 5. Identification"
   ]
  },
  {
   "cell_type": "markdown",
   "id": "3a45586c-dcaa-40cf-916f-eb1264edc391",
   "metadata": {},
   "source": [
    "## 5.1 The data generating process\n",
    "\n",
    "- scientists believe there are general, underlying laws that govern the world\n",
    "     - we don't observe these directly, instead measure their consequences\n",
    "\n",
    "## 5.2 Where's your variation\n",
    "\n",
    "- there are certain parts of the variation in the data that we will use to answer our questions\n",
    "    - need to account for other sources to isolate the effect we are interested in measuring\n",
    "\n",
    "## 5.3 Identification\n",
    "\n",
    "- identifying what part of the variability in the data is meaningful\n",
    "- link between hypothesis and the data\n",
    "- requires theory and assumptions about the way the world works in order to think of the contributing sources\n",
    "    - need to start forming a model of the data generating process\n",
    "    - often cannot account for all mechanisms you can think of, need to remove those that are irrational or impossible\n",
    "- :to identify the part of our data that gives the answer to our research question, we must:\n",
    "    1. Using theory, paint the most accurate picture possible of what the data generating process looks like\n",
    "    1. Use that data generating process to figure out the reasons our data might look the way it does that does not answer our research question\n",
    "    1. Find ways to block out those alternate reasons and so dig out the variation we need.\"\n",
    "\n",
    "## 5.4 Alcohol and mortality\n",
    "\n",
    "- demonstration using an alcohol and mortality study\n",
    "\n",
    "## 5.5 Context and omniscience\n",
    "\n",
    "- essential to understand how the observed data was collected"
   ]
  },
  {
   "cell_type": "markdown",
   "id": "d863f19f-94bf-49e7-b919-828b22c29e24",
   "metadata": {},
   "source": [
    "---\n",
    "\n",
    "## Session information"
   ]
  },
  {
   "cell_type": "code",
   "execution_count": 1,
   "id": "a3648adb-1ccf-4f45-8231-5628071eee9f",
   "metadata": {},
   "outputs": [
    {
     "name": "stdout",
     "output_type": "stream",
     "text": [
      "Last updated: 2022-11-30\n",
      "\n",
      "Python implementation: CPython\n",
      "Python version       : 3.10.8\n",
      "IPython version      : 8.6.0\n",
      "\n",
      "Compiler    : Clang 14.0.6 \n",
      "OS          : Darwin\n",
      "Release     : 21.6.0\n",
      "Machine     : x86_64\n",
      "Processor   : i386\n",
      "CPU cores   : 4\n",
      "Architecture: 64bit\n",
      "\n",
      "Hostname: JHCookMac.local\n",
      "\n",
      "Git branch: master\n",
      "\n"
     ]
    }
   ],
   "source": [
    "%load_ext watermark\n",
    "%watermark -d -u -v -iv -b -h -m"
   ]
  },
  {
   "cell_type": "code",
   "execution_count": null,
   "id": "4d193cd9-141b-466f-8a50-5f5e81f3f08b",
   "metadata": {},
   "outputs": [],
   "source": []
  }
 ],
 "metadata": {
  "kernelspec": {
   "display_name": "Python 3 (ipykernel)",
   "language": "python",
   "name": "python3"
  },
  "language_info": {
   "codemirror_mode": {
    "name": "ipython",
    "version": 3
   },
   "file_extension": ".py",
   "mimetype": "text/x-python",
   "name": "python",
   "nbconvert_exporter": "python",
   "pygments_lexer": "ipython3",
   "version": "3.10.8"
  }
 },
 "nbformat": 4,
 "nbformat_minor": 5
}
