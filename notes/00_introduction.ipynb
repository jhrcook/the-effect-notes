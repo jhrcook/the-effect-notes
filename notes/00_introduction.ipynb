{
 "cells": [
  {
   "cell_type": "markdown",
   "id": "5217c1e6-3670-424d-805d-47b13f918e7f",
   "metadata": {},
   "source": [
    "# Chapter 0. Introduction"
   ]
  },
  {
   "cell_type": "markdown",
   "id": "acf1a31e-e646-4868-8ead-f7cda97bafe0",
   "metadata": {},
   "source": [
    "## 0.3 Welcome\n",
    "\n",
    "- motivation: \"We want to know whether $X$ causes $Y$, and by how much, but we can’t or don’t want to run an experiment. How can we design a research study to answer that question?\""
   ]
  },
  {
   "cell_type": "markdown",
   "id": "d863f19f-94bf-49e7-b919-828b22c29e24",
   "metadata": {},
   "source": [
    "---\n",
    "\n",
    "## Session information"
   ]
  },
  {
   "cell_type": "code",
   "execution_count": 1,
   "id": "a3648adb-1ccf-4f45-8231-5628071eee9f",
   "metadata": {},
   "outputs": [
    {
     "name": "stdout",
     "output_type": "stream",
     "text": [
      "Last updated: 2022-11-27\n",
      "\n",
      "Python implementation: CPython\n",
      "Python version       : 3.10.8\n",
      "IPython version      : 8.6.0\n",
      "\n",
      "Compiler    : Clang 14.0.6 \n",
      "OS          : Darwin\n",
      "Release     : 21.6.0\n",
      "Machine     : x86_64\n",
      "Processor   : i386\n",
      "CPU cores   : 4\n",
      "Architecture: 64bit\n",
      "\n",
      "Hostname: JHCookMac.local\n",
      "\n",
      "Git branch: master\n",
      "\n"
     ]
    }
   ],
   "source": [
    "%load_ext watermark\n",
    "%watermark -d -u -v -iv -b -h -m"
   ]
  },
  {
   "cell_type": "code",
   "execution_count": null,
   "id": "4d193cd9-141b-466f-8a50-5f5e81f3f08b",
   "metadata": {},
   "outputs": [],
   "source": []
  }
 ],
 "metadata": {
  "kernelspec": {
   "display_name": "Python 3 (ipykernel)",
   "language": "python",
   "name": "python3"
  },
  "language_info": {
   "codemirror_mode": {
    "name": "ipython",
    "version": 3
   },
   "file_extension": ".py",
   "mimetype": "text/x-python",
   "name": "python",
   "nbconvert_exporter": "python",
   "pygments_lexer": "ipython3",
   "version": "3.10.8"
  }
 },
 "nbformat": 4,
 "nbformat_minor": 5
}
