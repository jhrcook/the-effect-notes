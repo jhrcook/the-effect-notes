{
 "cells": [
  {
   "cell_type": "markdown",
   "id": "5217c1e6-3670-424d-805d-47b13f918e7f",
   "metadata": {},
   "source": [
    "# Chapter 13. Regression"
   ]
  },
  {
   "cell_type": "markdown",
   "id": "f0c696f5-af9d-47f2-961d-9a8c88d4a597",
   "metadata": {},
   "source": [
    "## 13.1 The basics of regression\n",
    "\n",
    "- fit a line to explain variation\n",
    "- many more complex methods are based on regression\n",
    "\n",
    "### 13.1.1 Error terms\n",
    "\n",
    "- error term $\\epsilon$ added to the linear regression model\n",
    "\n",
    "$$\n",
    "Y = \\beta_0 + X \\beta_1 + \\epsilon\n",
    "$$\n",
    "\n",
    "- terminology:\n",
    "    - *error*: difference in real model and observed value\n",
    "    - *residual*: difference in estimated model and observed value\n",
    "- the error term accounts for the unknown sources of variation not included in the model\n",
    "    - other immeasurable or stochastic inputs\n",
    "\n",
    "### 13.1.2 Regression assumptions and sampling variation\n",
    "\n",
    "- the *exogeneity* assumption: \"If we want to say that our OLS estimates of $\\beta_1$ will, on average, give us the population $\\beta_1$, then it must be the case that $X$ is uncorrelated with $\\epsilon$.\"\n",
    "    - if there is a linear relationship between $X$ and $\\epsilon$, then it is an open back door in the causal diagram\n",
    "    - in other words, the factors implicitly modeled in the error term must not have an effect on $X$\n",
    "- for a normal linear regression, we model the coefficient $\\beta_1$ as a normal distribution with mean $\\beta_1$ and standard deviation $\\sqrt{\\sigma^2 / (\\text{var}(X)n)}$ where $n$ is the number of data points and $\\sigma$ is the standard deviation of the error term $\\epsilon$\n",
    "    - with multiple coefficients in the model, the math requires linear algebra, but the same idea holds\n",
    "    - this standard deviation is really a *standard error* because it is the standard deviation of a sampling distribution\n",
    "\n",
    "### 13.1.3 Hypothesis testing in OLS\n",
    "\n"
   ]
  },
  {
   "cell_type": "code",
   "execution_count": null,
   "id": "21cd6631-4ded-4a6b-83b4-1a9412dbc630",
   "metadata": {},
   "outputs": [],
   "source": []
  },
  {
   "cell_type": "code",
   "execution_count": null,
   "id": "df2afa19-f578-4fff-b425-74b81cf7cec1",
   "metadata": {},
   "outputs": [],
   "source": []
  },
  {
   "cell_type": "markdown",
   "id": "d863f19f-94bf-49e7-b919-828b22c29e24",
   "metadata": {},
   "source": [
    "---\n",
    "\n",
    "## Session information"
   ]
  },
  {
   "cell_type": "code",
   "execution_count": null,
   "id": "a3648adb-1ccf-4f45-8231-5628071eee9f",
   "metadata": {},
   "outputs": [],
   "source": [
    "%load_ext watermark\n",
    "%watermark -d -u -v -iv -b -h -m"
   ]
  },
  {
   "cell_type": "code",
   "execution_count": null,
   "id": "4d193cd9-141b-466f-8a50-5f5e81f3f08b",
   "metadata": {},
   "outputs": [],
   "source": []
  }
 ],
 "metadata": {
  "kernelspec": {
   "display_name": "Python 3.10.8 ('the-effect-notes')",
   "language": "python",
   "name": "python3"
  },
  "language_info": {
   "codemirror_mode": {
    "name": "ipython",
    "version": 3
   },
   "file_extension": ".py",
   "mimetype": "text/x-python",
   "name": "python",
   "nbconvert_exporter": "python",
   "pygments_lexer": "ipython3",
   "version": "3.10.8"
  },
  "vscode": {
   "interpreter": {
    "hash": "1a59a026438a49ac853b29f181e051b1ffbd59158d1cc44644b5b4de36635554"
   }
  }
 },
 "nbformat": 4,
 "nbformat_minor": 5
}
