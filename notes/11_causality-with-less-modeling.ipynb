{
 "cells": [
  {
   "cell_type": "markdown",
   "id": "5217c1e6-3670-424d-805d-47b13f918e7f",
   "metadata": {},
   "source": [
    "# Chapter 11. Causality with Less Modeling"
   ]
  },
  {
   "cell_type": "markdown",
   "id": "f0c696f5-af9d-47f2-961d-9a8c88d4a597",
   "metadata": {},
   "source": [
    "## 11.1 Confidence\n",
    "\n",
    "- model is likely wrong, but give it a shot (I think this is what this section was saying?)"
   ]
  },
  {
   "cell_type": "markdown",
   "id": "39c042ee",
   "metadata": {},
   "source": [
    "## 11.2 Wide open spaces\n",
    "\n",
    "- sometimes there are so many back doors that you can control for them all without controlling for any of them (?)\n",
    "    - the explanation of this is not clear to me\n",
    "- with a lot of possible back doors, closing some may close many others so they should be prioritized\n",
    "- can sometimes assume things are comparable without explicitly controlling for the variation\n",
    "    - select a control group and compare against the treatment\n",
    "    - need to select specific comparisons to make sure not just comparing treated vs. untreated\n",
    "        - (except in randomized controlled experiments)"
   ]
  },
  {
   "cell_type": "markdown",
   "id": "67abc7a6",
   "metadata": {},
   "source": [
    "## 11.3 Yes, I'm wrong, but am I that wrong?\n",
    "\n",
    "- difficult to test is assumptions are correct, easier instead to test if they are false\n",
    "- robustness test:\n",
    "    1. \"checking whether we can disprove an assumption\"\n",
    "    1. \"redoing our analysis in a way that doesn’t rely on that assumption and seeing if the result changes\"\n",
    "- common robustness test is that we claim there is no relationship between $X$ and $Y$ so we test if there is a measurable relationship\n",
    "    - test for the presence of a relationship that an assumption implies shouldn't exist\n",
    "- all assumptions are incorrect at some level\n",
    "    - more important to find out *how* wrong they are\n",
    "- *partial identification*: make assumptions we are very confident in, then use a range of possibilities for the remaining assumptions and produce an estimate for the effect over that range\n",
    "    - need not make assumptions until we identify the effect, instead just produce estimates for each possible case of the remaining back doors\n",
    "    - depending on the remaining assumptions, the estimate may be an upper or lower bound on the effect\n",
    "- generally good to finish with a \"gut check\" or \"sanity check\"\n"
   ]
  },
  {
   "cell_type": "markdown",
   "id": "d863f19f-94bf-49e7-b919-828b22c29e24",
   "metadata": {},
   "source": [
    "---\n",
    "\n",
    "## Session information"
   ]
  },
  {
   "cell_type": "code",
   "execution_count": 1,
   "id": "a3648adb-1ccf-4f45-8231-5628071eee9f",
   "metadata": {},
   "outputs": [
    {
     "name": "stdout",
     "output_type": "stream",
     "text": [
      "Last updated: 2022-12-05\n",
      "\n",
      "Python implementation: CPython\n",
      "Python version       : 3.10.8\n",
      "IPython version      : 8.6.0\n",
      "\n",
      "Compiler    : Clang 14.0.6 \n",
      "OS          : Darwin\n",
      "Release     : 21.6.0\n",
      "Machine     : x86_64\n",
      "Processor   : i386\n",
      "CPU cores   : 4\n",
      "Architecture: 64bit\n",
      "\n",
      "Hostname: JHCookMac.local\n",
      "\n",
      "Git branch: master\n",
      "\n",
      "sys: 3.10.8 | packaged by conda-forge | (main, Nov 22 2022, 08:27:35) [Clang 14.0.6 ]\n",
      "\n"
     ]
    }
   ],
   "source": [
    "%load_ext watermark\n",
    "%watermark -d -u -v -iv -b -h -m"
   ]
  },
  {
   "cell_type": "code",
   "execution_count": null,
   "id": "4d193cd9-141b-466f-8a50-5f5e81f3f08b",
   "metadata": {},
   "outputs": [],
   "source": []
  }
 ],
 "metadata": {
  "kernelspec": {
   "display_name": "Python 3.10.8 ('the-effect-notes')",
   "language": "python",
   "name": "python3"
  },
  "language_info": {
   "codemirror_mode": {
    "name": "ipython",
    "version": 3
   },
   "file_extension": ".py",
   "mimetype": "text/x-python",
   "name": "python",
   "nbconvert_exporter": "python",
   "pygments_lexer": "ipython3",
   "version": "3.10.8"
  },
  "vscode": {
   "interpreter": {
    "hash": "1a59a026438a49ac853b29f181e051b1ffbd59158d1cc44644b5b4de36635554"
   }
  }
 },
 "nbformat": 4,
 "nbformat_minor": 5
}
