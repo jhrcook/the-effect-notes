{
 "cells": [
  {
   "cell_type": "markdown",
   "id": "5217c1e6-3670-424d-805d-47b13f918e7f",
   "metadata": {},
   "source": [
    "# Chapter 8. Causal Paths and Closing Back Doors"
   ]
  },
  {
   "cell_type": "markdown",
   "id": "f0c696f5-af9d-47f2-961d-9a8c88d4a597",
   "metadata": {},
   "source": [
    "## 8.1 Walk the line\n",
    "\n",
    "- *path*: the series of arrows and nodes to follow to get from one variable to another\n",
    "- can have multiple paths between two variables\n"
   ]
  },
  {
   "cell_type": "markdown",
   "id": "a14f1027",
   "metadata": {},
   "source": [
    "## 8.2 Any way you like it\n",
    "\n",
    "- good to cover all possible paths from treatment to outcome variables\n",
    "    - each path is a story about how one variable can have knock-on effects"
   ]
  },
  {
   "cell_type": "markdown",
   "id": "b7877c1a",
   "metadata": {},
   "source": [
    "## 8.3 Good paths and bad paths, front doors and back doors\n",
    "\n",
    "- good vs. bad paths\n",
    "    - \"good paths\": relationships between the treatment and outcome variables that *should* count for the research question\n",
    "    - \"bad paths\": relationships between the treatment and outcome variables that *should not* count for the research question\n",
    "front vs. back doors\n",
    "    - \"front door path\": paths where all the arrows point away from the treatment\n",
    "    - \"back door path\": paths where some arrows point towards the treatment\n",
    "- relating good/bad and front/back:\n",
    "    - front door paths are usually good\n",
    "    - back door paths are usually bad\n",
    "- key to answering our research question is how to isolate just the good paths out of the data without getting distracted by the bad paths\n"
   ]
  },
  {
   "cell_type": "markdown",
   "id": "fad48eb2",
   "metadata": {},
   "source": [
    "## 8.4 Open and closed paths\n",
    "\n",
    "- a path is *open* if the variables are allowed to vary\n",
    "    - the path is *closed* if at least one variable is constant\n",
    "- there multiple ways to close a path\n",
    "    - a simple one is to select/filter a dataset such that a variable is constant\n",
    "    - control for the variable\n",
    "- *collider*: a variable in a path that only has arrows pointing at it\n",
    "    - a path with a collider is automatically closed\n",
    "    - controlling for the collider opens the path\n",
    "- the goal: to identify the answer to a research question, need to open the good paths and close the bad paths\n"
   ]
  },
  {
   "cell_type": "markdown",
   "id": "4603d2ef",
   "metadata": {},
   "source": [
    "## 8.5 Using paths to test your diagram\n",
    "\n",
    "- can analyze other paths besides those for our research question in order to test the diagram's structure\n",
    "- for variables $A$ and $B$, close all possible paths then measure the correlation of the values\n",
    "    - if any correlation remains, then the model is missing some relationships\n",
    "- *placebo tests*: testing that a relationship is 0 where we expect it to be based on the diagram\n",
    "- failing these tests is not critical, depends on the how deficient the model is\n",
    "    - can sometimes be safely ignored\n"
   ]
  },
  {
   "cell_type": "markdown",
   "id": "d863f19f-94bf-49e7-b919-828b22c29e24",
   "metadata": {},
   "source": [
    "---\n",
    "\n",
    "## Session information"
   ]
  },
  {
   "cell_type": "code",
   "execution_count": 1,
   "id": "a3648adb-1ccf-4f45-8231-5628071eee9f",
   "metadata": {},
   "outputs": [
    {
     "name": "stdout",
     "output_type": "stream",
     "text": [
      "Last updated: 2022-12-01\n",
      "\n",
      "Python implementation: CPython\n",
      "Python version       : 3.10.8\n",
      "IPython version      : 8.6.0\n",
      "\n",
      "Compiler    : Clang 14.0.6 \n",
      "OS          : Darwin\n",
      "Release     : 21.6.0\n",
      "Machine     : x86_64\n",
      "Processor   : i386\n",
      "CPU cores   : 4\n",
      "Architecture: 64bit\n",
      "\n",
      "Hostname: JHCookMac.local\n",
      "\n",
      "Git branch: master\n",
      "\n",
      "sys: 3.10.8 | packaged by conda-forge | (main, Nov 22 2022, 08:27:35) [Clang 14.0.6 ]\n",
      "\n"
     ]
    }
   ],
   "source": [
    "%load_ext watermark\n",
    "%watermark -d -u -v -iv -b -h -m"
   ]
  },
  {
   "cell_type": "code",
   "execution_count": null,
   "id": "4d193cd9-141b-466f-8a50-5f5e81f3f08b",
   "metadata": {},
   "outputs": [],
   "source": []
  }
 ],
 "metadata": {
  "kernelspec": {
   "display_name": "Python 3.10.8 ('the-effect-notes')",
   "language": "python",
   "name": "python3"
  },
  "language_info": {
   "codemirror_mode": {
    "name": "ipython",
    "version": 3
   },
   "file_extension": ".py",
   "mimetype": "text/x-python",
   "name": "python",
   "nbconvert_exporter": "python",
   "pygments_lexer": "ipython3",
   "version": "3.10.8"
  },
  "vscode": {
   "interpreter": {
    "hash": "1a59a026438a49ac853b29f181e051b1ffbd59158d1cc44644b5b4de36635554"
   }
  }
 },
 "nbformat": 4,
 "nbformat_minor": 5
}
