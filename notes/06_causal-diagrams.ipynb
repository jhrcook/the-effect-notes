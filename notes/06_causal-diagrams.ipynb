{
 "cells": [
  {
   "cell_type": "markdown",
   "id": "5217c1e6-3670-424d-805d-47b13f918e7f",
   "metadata": {},
   "source": [
    "# Chapter 6. Causal Diagrams"
   ]
  },
  {
   "cell_type": "markdown",
   "id": "7f5dff17-c390-4c64-ae54-1211a0fe815d",
   "metadata": {},
   "source": [
    "## 6.1 Causality\n",
    "\n",
    "- *causal*: does $X$ cause $Y$\n",
    "    - not just looking for an association, that is *descriptive* research\n",
    "    - causal language will indicate directionality, not just an association\n",
    "- definition of causation:\n",
    "\n",
    "> We can say that $X$ causes $Y$ if, were we to intervene and change the value of $X$, then the distribution of $Y$ would also change as a result.\n",
    "\n",
    "- specifically changes the distribution of $Y$ because it is a claim about the probability of $Y$\n",
    "    - leaves room for other factors to be at play"
   ]
  },
  {
   "cell_type": "markdown",
   "id": "21cd6631-4ded-4a6b-83b4-1a9412dbc630",
   "metadata": {},
   "source": [
    "## 6.2 Causal diagrams\n",
    "\n",
    "- *causal diagrams*: \"graphical representation of a data generating process (DGP)\"\n",
    "- contains two components:\n",
    "    1. nodes: the variables in the DGP\n",
    "    1. arrows: the causal relationships in the DGP; an arrow from the cause variable to the caused variable\n",
    "- don't always have access to all of the data, so can include *unobserved variables*\n",
    "    - have an effect but are not directly measurable themselves\n",
    "    - also called a *latent variable*\n",
    "    "
   ]
  },
  {
   "cell_type": "markdown",
   "id": "0632a5a7",
   "metadata": {},
   "source": [
    "## 6.3 The real world: On an omission mission\n",
    "\n",
    "- balancing act when constructing a causal diagram between complexity and completeness\n"
   ]
  },
  {
   "cell_type": "markdown",
   "id": "76d24019",
   "metadata": {},
   "source": [
    "## 6.4 Research questions in causal diagrams\n",
    "\n",
    "- use the diagram to identify which types of variation can identify the research question"
   ]
  },
  {
   "cell_type": "markdown",
   "id": "df2afa19-f578-4fff-b425-74b81cf7cec1",
   "metadata": {},
   "source": [
    "## 6.5 Moderators in causal diagrams\n",
    "\n",
    "- *moderators*: variable that alters how two variables interact; modifies the effect of one variable on another\n",
    "- to make moderating effects clear in causal diagrams, will include them directly as $X \\times Z$ where $X$ modifies $Z$\n",
    "    - shows there is an *interaction* between $X$ and $Z$\n",
    "    - this is not always explicit in causal diagrams, but will use this notation in this book\n",
    "    "
   ]
  },
  {
   "cell_type": "markdown",
   "id": "d863f19f-94bf-49e7-b919-828b22c29e24",
   "metadata": {},
   "source": [
    "---\n",
    "\n",
    "## Session information"
   ]
  },
  {
   "cell_type": "code",
   "execution_count": 1,
   "id": "a3648adb-1ccf-4f45-8231-5628071eee9f",
   "metadata": {},
   "outputs": [
    {
     "name": "stdout",
     "output_type": "stream",
     "text": [
      "Last updated: 2022-12-01\n",
      "\n",
      "Python implementation: CPython\n",
      "Python version       : 3.10.8\n",
      "IPython version      : 8.6.0\n",
      "\n",
      "Compiler    : Clang 14.0.6 \n",
      "OS          : Darwin\n",
      "Release     : 21.6.0\n",
      "Machine     : x86_64\n",
      "Processor   : i386\n",
      "CPU cores   : 4\n",
      "Architecture: 64bit\n",
      "\n",
      "Hostname: JHCookMac.local\n",
      "\n",
      "Git branch: master\n",
      "\n",
      "sys: 3.10.8 | packaged by conda-forge | (main, Nov 22 2022, 08:27:35) [Clang 14.0.6 ]\n",
      "\n"
     ]
    }
   ],
   "source": [
    "%load_ext watermark\n",
    "%watermark -d -u -v -iv -b -h -m"
   ]
  },
  {
   "cell_type": "code",
   "execution_count": null,
   "id": "4d193cd9-141b-466f-8a50-5f5e81f3f08b",
   "metadata": {},
   "outputs": [],
   "source": []
  }
 ],
 "metadata": {
  "kernelspec": {
   "display_name": "Python 3.10.8 ('the-effect-notes')",
   "language": "python",
   "name": "python3"
  },
  "language_info": {
   "codemirror_mode": {
    "name": "ipython",
    "version": 3
   },
   "file_extension": ".py",
   "mimetype": "text/x-python",
   "name": "python",
   "nbconvert_exporter": "python",
   "pygments_lexer": "ipython3",
   "version": "3.10.8"
  },
  "vscode": {
   "interpreter": {
    "hash": "1a59a026438a49ac853b29f181e051b1ffbd59158d1cc44644b5b4de36635554"
   }
  }
 },
 "nbformat": 4,
 "nbformat_minor": 5
}
