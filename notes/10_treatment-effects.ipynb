{
 "cells": [
  {
   "cell_type": "markdown",
   "id": "5217c1e6-3670-424d-805d-47b13f918e7f",
   "metadata": {},
   "source": [
    "# Chapter 10. Treatment Effects"
   ]
  },
  {
   "cell_type": "markdown",
   "id": "6f573973",
   "metadata": {},
   "source": [
    "## 10.1 For whom the effect holds\n",
    "\n",
    "- a treatment can have a range of effects\n",
    "- thus, can estimate the distribution of effects"
   ]
  },
  {
   "cell_type": "markdown",
   "id": "fcb4011b",
   "metadata": {},
   "source": [
    "## 10.2 Treatment averages \n",
    "\n",
    "- concept that each subject has their own treatment effect\n",
    "    - collectively forms a distribution of treatment effects\n",
    "- *average treatment effect* (ATE): average of the treatment effect across the popultation\n",
    "    - often a useful metric of the distribution of treatment effects\n",
    "- multiple ways to measure:\n",
    "    1. measure the average effect in only some members of the population or conditional on some attribute\n",
    "    1. measure the effect in every member of the population, but count some individuals more than others\n"
   ]
  },
  {
   "cell_type": "markdown",
   "id": "f0c696f5-af9d-47f2-961d-9a8c88d4a597",
   "metadata": {},
   "source": [
    "## 10.3 I just want an ATE, it would make me feel great, what do I get?\n",
    "\n",
    "- \"The treatment effect we get is almost entirely determined by the source of treatment variation we use.\"\n",
    "    - e.g. for an experiment, are limited to the variation in the subjects we include\n",
    "- Rules of Thumb:\n",
    "    1. \"If you have true randomization in a representative sample and don’t need to do any adjustment, you have an *average treatment effect* (ATE).\"\n",
    "    1. \"If you have true randomization only within a certain group, and you isolate that group so you can take advantage of that randomization, you have a *conditional average treatment effect*.\"\n",
    "    1. \"If you know that some variation in treatment is connected to back doors and so you close those back doors, using only the remaining variation, you have a *weighted average treatment effect*...\"\n",
    "    1. \"If you are identifying your effect by assuming that some untreated group is what the treated group would look like if they hadn’t been treated, then we have the *average treatment on the treated* (ATT).\"\n",
    "    1. \"If part of the variation in treatment is driven by an exogenous variable, and you isolate just the part driven by that exogenous variable, then you have a *local average treatment effect* (LATE).\""
   ]
  },
  {
   "cell_type": "markdown",
   "id": "5b4a3e82",
   "metadata": {},
   "source": [
    "## 10.4 Who cares?\n",
    "\n",
    "- we care about causal effects because we want to estimate the predicted effect if we intervene\n",
    "    - the type of treatment effect average we have changes how we interpret what it means to intervene\n",
    "    - should consider what treatment average effect we measure based on what the intervention could/would look like\n"
   ]
  },
  {
   "cell_type": "markdown",
   "id": "d863f19f-94bf-49e7-b919-828b22c29e24",
   "metadata": {},
   "source": [
    "---\n",
    "\n",
    "## Session information"
   ]
  },
  {
   "cell_type": "code",
   "execution_count": 1,
   "id": "a3648adb-1ccf-4f45-8231-5628071eee9f",
   "metadata": {},
   "outputs": [
    {
     "name": "stdout",
     "output_type": "stream",
     "text": [
      "Last updated: 2022-12-04\n",
      "\n",
      "Python implementation: CPython\n",
      "Python version       : 3.10.8\n",
      "IPython version      : 8.6.0\n",
      "\n",
      "Compiler    : Clang 14.0.6 \n",
      "OS          : Darwin\n",
      "Release     : 21.6.0\n",
      "Machine     : x86_64\n",
      "Processor   : i386\n",
      "CPU cores   : 4\n",
      "Architecture: 64bit\n",
      "\n",
      "Hostname: JHCookMac.local\n",
      "\n",
      "Git branch: master\n",
      "\n",
      "sys: 3.10.8 | packaged by conda-forge | (main, Nov 22 2022, 08:27:35) [Clang 14.0.6 ]\n",
      "\n"
     ]
    }
   ],
   "source": [
    "%load_ext watermark\n",
    "%watermark -d -u -v -iv -b -h -m"
   ]
  },
  {
   "cell_type": "code",
   "execution_count": null,
   "id": "4d193cd9-141b-466f-8a50-5f5e81f3f08b",
   "metadata": {},
   "outputs": [],
   "source": []
  }
 ],
 "metadata": {
  "kernelspec": {
   "display_name": "Python 3.10.8 ('the-effect-notes')",
   "language": "python",
   "name": "python3"
  },
  "language_info": {
   "codemirror_mode": {
    "name": "ipython",
    "version": 3
   },
   "file_extension": ".py",
   "mimetype": "text/x-python",
   "name": "python",
   "nbconvert_exporter": "python",
   "pygments_lexer": "ipython3",
   "version": "3.10.8"
  },
  "vscode": {
   "interpreter": {
    "hash": "1a59a026438a49ac853b29f181e051b1ffbd59158d1cc44644b5b4de36635554"
   }
  }
 },
 "nbformat": 4,
 "nbformat_minor": 5
}
